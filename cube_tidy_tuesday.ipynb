{
 "cells": [
  {
   "cell_type": "code",
   "execution_count": 1,
   "metadata": {},
   "outputs": [],
   "source": [
    "import numpy\n",
    "import pandas as pd\n",
    "import matplotlib.pyplot as plt\n"
   ]
  },
  {
   "cell_type": "code",
   "execution_count": 2,
   "metadata": {},
   "outputs": [],
   "source": [
    "data = pd.read_csv('https://raw.githubusercontent.com/rfordatascience/tidytuesday/master/data/2023/2023-02-28/afrisenti.csv').to_numpy()\n",
    "countries = pd.read_csv('https://raw.githubusercontent.com/rfordatascience/tidytuesday/master/data/2023/2023-02-28/language_countries.csv').to_numpy()"
   ]
  },
  {
   "cell_type": "code",
   "execution_count": 27,
   "metadata": {},
   "outputs": [
    {
     "name": "stdout",
     "output_type": "stream",
     "text": [
      "[['amh'\n",
      "  'አማራ ክልል ፈልቶበታል ልኩን ማስገባት ነው!!! ሙስሊሞችን ጠልቶ 85% ሙስሊሞች በሚኖርባት ኦሮምያ ጋር ግንኙነትን አትሰበው !!!'\n",
      "  'negative' 'dev']\n",
      " ['amh'\n",
      "  'ሰውን አንገት በሚያስደፋ መልኩ ዝም ብሎ ሙድ መያዝ....ስልህ ያ ሰው ምንም ሳያጠፋ.....ተቀባብሎ መሣለቅ'\n",
      "  'negative' 'dev']\n",
      " ['amh' 'የቤት ውስጥ ጥቃት – ያለሰሚ – ያለተመልካች' 'negative' 'dev']\n",
      " ...\n",
      " ['yor'\n",
      "  'Ẹní tó làná, tó lòní, kò leè lọ̀la; Ọlọ́run nìkan ló lọjọ́ gbogbo / Whoever called the shots yesterday and calls the shots today, cannot call the shots tomorrow; only God calls the shots at all times. [Nothing lasts forever; change is certain; keep up hope]#Yoruba #proverbs'\n",
      "  'positive' 'train']\n",
      " ['yor'\n",
      "  'My God is \"\"\"\"\"\"\"\"onise iyanu\"\"\"\"\"\"\"\" ( A Miracle Worker) #yoruba'\n",
      "  'positive' 'train']\n",
      " ['yor'\n",
      "  'RT @user: Ẹ wá ba mi re! #yorubafood #naijafood #africanfood http://t.co/T32HYEPg4M'\n",
      "  'positive' 'train']]\n",
      "[['amh' 'Ethiopia']\n",
      " ['arq' 'Algeria']\n",
      " ['ary' 'Morocco']\n",
      " ['hau' 'Cameroon']\n",
      " ['hau' 'Ghana']\n",
      " ['hau' 'Nigeria']\n",
      " ['ibo' 'Nigeria']\n",
      " ['kin' 'Rwanda']\n",
      " ['orm' 'Ethiopia']\n",
      " ['pcm' 'Cameroon']\n",
      " ['pcm' 'Ghana']\n",
      " ['pcm' 'Nigeria']\n",
      " ['pt-MZ' 'Mozambique']\n",
      " ['swa' 'Kenya']\n",
      " ['swa' 'Mozambique']\n",
      " ['swa' 'Tanzania']\n",
      " ['tir' 'Ethiopia']\n",
      " ['tso' 'Eswatini']\n",
      " ['tso' 'Mozambique']\n",
      " ['tso' 'South Africa']\n",
      " ['tso' 'Zimbabwe']\n",
      " ['twi' 'Ghana']\n",
      " ['yor' 'Nigeria']]\n"
     ]
    }
   ],
   "source": [
    "print(data)\n",
    "print(countries)"
   ]
  },
  {
   "cell_type": "code",
   "execution_count": 28,
   "metadata": {},
   "outputs": [],
   "source": [
    "# Count number of positive and negative for each language\n",
    "\n",
    "languages = {}\n",
    "for i in range(len(data)):\n",
    "    if data[i][0] in languages:\n",
    "        if data[i][2] == 'positive':\n",
    "            languages[data[i][0]][0] += 1\n",
    "        elif data[i][2] == 'neutral':\n",
    "            languages[data[i][0]][2] += 1\n",
    "        else:\n",
    "            languages[data[i][0]][1] += 1\n",
    "    else:\n",
    "        if data[i][2] == 'positive':\n",
    "            languages[data[i][0]] = [1, 0, 0]\n",
    "        elif data[i][2] == 'neutral':\n",
    "            languages[data[i][0]] = [0, 0, 1]\n",
    "        else:\n",
    "            languages[data[i][0]] = [0, 1, 0]"
   ]
  },
  {
   "cell_type": "code",
   "execution_count": 29,
   "metadata": {},
   "outputs": [
    {
     "name": "stdout",
     "output_type": "stream",
     "text": [
      "{'amh': [2103, 3273, 4104], 'arq': [851, 1590, 582], 'ary': [3069, 2652, 3317], 'hau': [7329, 7226, 7597], 'ibo': [4762, 4013, 6940], 'kin': [1402, 1788, 1965], 'orm': [523, 948, 1023], 'pcm': [3652, 6380, 524], 'pt-MZ': [1480, 1633, 4379], 'swa': [908, 319, 1784], 'tir': [704, 1185, 509], 'tso': [601, 446, 214], 'twi': [2277, 1815, 726], 'yor': [6344, 3296, 5487]}\n"
     ]
    }
   ],
   "source": [
    "print(languages)"
   ]
  },
  {
   "cell_type": "code",
   "execution_count": 31,
   "metadata": {},
   "outputs": [
    {
     "name": "stdout",
     "output_type": "stream",
     "text": [
      "[['Nigeria', 0.6043956043956044], ['Algeria', 0.5259675818723123], ['Ethiopia', 0.49416180150125105], ['Ethiopia', 0.38011226944667204], ['Ghana', 0.3767123287671233], ['Zimbabwe', 0.35368754956383824], ['Rwanda', 0.3468477206595538], ['Ethiopia', 0.34525316455696203], ['Nigeria', 0.32620079451065365], ['Morocco', 0.2934277495021022], ['Nigeria', 0.2553611199490932], ['Mozambique', 0.21796583021890015], ['Nigeria', 0.2178885436636478], ['Tanzania', 0.10594486881434739]]\n"
     ]
    },
    {
     "data": {
      "image/png": "[encoded data removed]",
      "text/plain": [
       "<Figure size 1440x720 with 1 Axes>"
      ]
     },
     "metadata": {
      "needs_background": "light"
     },
     "output_type": "display_data"
    }
   ],
   "source": [
    "# for each language, calculate the percentage of positive tweets\n",
    "\n",
    "positivity={}\n",
    "for key in languages:\n",
    "    positivity[key] = languages[key][1] / (languages[key][0] + languages[key][1] + languages[key][2])\n",
    "\n",
    "# sort the languages by positivity\n",
    "positivitys = sorted(positivity.items(), key=lambda x: x[1], reverse=True)\n",
    "\n",
    "# convert language to country\n",
    "\n",
    "country = {}\n",
    "for i in range(len(countries)):\n",
    "    country[countries[i][0]] = countries[i][1]\n",
    "\n",
    "# add country to positivitys\n",
    "for i in range(len(positivitys)):\n",
    "    positivitys[i] = [country[positivitys[i][0]], positivitys[i][1]]\n",
    "\n",
    "# sort country based on positivity\n",
    "\n",
    "positivitys = sorted(positivitys, key=lambda x: x[1], reverse=True)\n",
    "\n",
    "print(positivitys)\n",
    "\n",
    "# plot the data\n",
    "\n",
    "plt.figure(figsize=(20, 10))\n",
    "plt.bar([x[0] for x in positivitys], [x[1] for x in positivitys])\n",
    "# make the x-axis labels readable\n",
    "# plt.xticks(rotation=90)\n",
    "plt.xlabel('Country')\n",
    "plt.show()"
   ]
  },
  {
   "cell_type": "code",
   "execution_count": null,
   "metadata": {},
   "outputs": [],
   "source": []
  }
 ],
 "metadata": {
  "kernelspec": {
   "display_name": "Python 3",
   "language": "python",
   "name": "python3"
  },
  "language_info": {
   "codemirror_mode": {
    "name": "ipython",
    "version": 3
   },
   "file_extension": ".py",
   "mimetype": "text/x-python",
   "name": "python",
   "nbconvert_exporter": "python",
   "pygments_lexer": "ipython3",
   "version": "3.8.9"
  },
  "orig_nbformat": 4,
  "vscode": {
   "interpreter": {
    "hash": "31f2aee4e71d21fbe5cf8b01ff0e069b9275f58929596ceb00d14d90e3e16cd6"
   }
  }
 },
 "nbformat": 4,
 "nbformat_minor": 2
}
